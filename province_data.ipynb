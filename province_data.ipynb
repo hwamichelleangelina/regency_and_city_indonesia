{
  "nbformat": 4,
  "nbformat_minor": 0,
  "metadata": {
    "colab": {
      "provenance": []
    },
    "kernelspec": {
      "name": "python3",
      "display_name": "Python 3"
    },
    "language_info": {
      "name": "python"
    }
  },
  "cells": [
    {
      "cell_type": "code",
      "execution_count": 7,
      "metadata": {
        "id": "-0yMGT-CJg4_"
      },
      "outputs": [],
      "source": [
        "import pandas as pd\n",
        "import re\n",
        "try:\n",
        "  df = pd.read_csv('daftar-kabupaten-kota-di-indonesia-excel.csv')\n",
        "except FileNotFoundError:\n",
        "  print(\"Error: 'daftar-kabupaten-kota-di-indonesia-excel.csv' not found. Please upload the file or provide the correct path.\")"
      ]
    },
    {
      "cell_type": "code",
      "source": [
        "def clean_kab_kota(name):\n",
        "    name = re.sub(r'\\d+\\.\\s*', '', name)  # Hapus angka dan titik\n",
        "    return name.lstrip()  # Hapus spasi di awal\n",
        "\n",
        "# Terapkan fungsi ke kolom 'kab_kota'\n",
        "df[\"kab_kota\"] = df[\"kab_kota\"].apply(clean_kab_kota)\n",
        "\n",
        "# Simpan kembali ke CSV\n",
        "df.to_csv(\"kab_kota_provinsi_indonesia.csv\", index=False)\n",
        "\n",
        "print(\"Data cleansing selesai.\")"
      ],
      "metadata": {
        "colab": {
          "base_uri": "https://localhost:8080/"
        },
        "id": "VW0JqOdHJvza",
        "outputId": "c180cad6-1de1-4d53-e2ad-1c676abdfe2a"
      },
      "execution_count": 8,
      "outputs": [
        {
          "output_type": "stream",
          "name": "stdout",
          "text": [
            "Data cleansing selesai.\n"
          ]
        }
      ]
    }
  ]
}